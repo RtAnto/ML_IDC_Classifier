{
 "cells": [
  {
   "cell_type": "code",
   "execution_count": 2,
   "metadata": {},
   "outputs": [
    {
     "name": "stderr",
     "output_type": "stream",
     "text": [
      "/Users/MariaNuila/anaconda3/lib/python3.6/site-packages/h5py/__init__.py:36: FutureWarning: Conversion of the second argument of issubdtype from `float` to `np.floating` is deprecated. In future, it will be treated as `np.float64 == np.dtype(float).type`.\n",
      "  from ._conv import register_converters as _register_converters\n",
      "Using TensorFlow backend.\n"
     ]
    }
   ],
   "source": [
    "from glob import glob\n",
    "from PIL import Image\n",
    "import numpy as np\n",
    "from os.path import basename\n",
    "import matplotlib.pylab as plt\n",
    "import fnmatch\n",
    "import cv2\n",
    "import itertools\n",
    "import pandas as pd\n",
    "from sklearn.metrics import classification_report\n",
    "from sklearn.model_selection import train_test_split\n",
    "from sklearn.metrics import confusion_matrix, make_scorer, accuracy_score\n",
    "import keras\n",
    "from keras.models import Sequential\n",
    "from keras.layers import Dense, Dropout, Flatten\n",
    "from keras import optimizers\n",
    "from keras.preprocessing.image import ImageDataGenerator\n",
    "from keras.callbacks import History "
   ]
  },
  {
   "cell_type": "markdown",
   "metadata": {},
   "source": [
    "# Preparation of Images for our DataSet"
   ]
  },
  {
   "cell_type": "code",
   "execution_count": 3,
   "metadata": {},
   "outputs": [],
   "source": [
    "#Path of the files:\n",
    "path = \"/Users/MariaNuila/Desktop/CECS406/IDC_regular_ps50_idx5/*/*/*.png\"\n",
    "width, height = 50, 50\n",
    "pictures = glob(path)\n",
    "#Separate images based on classification\n",
    "nonIDC =  fnmatch.filter(pictures, '*class0.png')\n",
    "IDC = fnmatch.filter(pictures, '*class1.png')\n"
   ]
  },
  {
   "cell_type": "code",
   "execution_count": 4,
   "metadata": {},
   "outputs": [],
   "source": [
    "#Create training and testing data set from pictures\n",
    "x = []\n",
    "y = [] #labels\n",
    "for pic in pictures[0:100000]:\n",
    "    image = cv2.imread(pic)\n",
    "    x.append(cv2.resize(image, (width, height), interpolation=cv2.INTER_CUBIC))\n",
    "    if pic in nonIDC:\n",
    "        y.append(0)\n",
    "    if pic in IDC:\n",
    "        y.append(1)\n",
    "#Place in dataframe:\n",
    "df = pd.DataFrame()\n",
    "df[\"images\"] = x\n",
    "df[\"labels\"] = y\n",
    "\n",
    "#vectorize and normalize data\n",
    "x=np.array(x)\n",
    "x=x/255.0\n",
    "X_train, X_test, Y_train, Y_test = train_test_split(x, y, test_size=0.2)\n",
    "\n",
    "#Convert our training and testing data into np arrays:\n",
    "xtrain_npArray = np.array(X_train)\n",
    "xtest_npArray = np.array(X_test)\n",
    "ytrain_npArray = np.array(Y_train)\n",
    "ytest_npArray = np.array(Y_test)"
   ]
  },
  {
   "cell_type": "code",
   "execution_count": 6,
   "metadata": {},
   "outputs": [],
   "source": [
    "input_shape = (50,50,3)\n",
    "num_classes = 2\n",
    "# convert class vectors to binary class matrices\n",
    "ytrain_npArray = keras.utils.to_categorical(ytrain_npArray, num_classes)\n",
    "ytest_npArray = keras.utils.to_categorical(ytest_npArray, num_classes)"
   ]
  },
  {
   "cell_type": "code",
   "execution_count": 7,
   "metadata": {},
   "outputs": [],
   "source": [
    "#Specify Data training information: \n",
    "batch_size = 128\n",
    "epochs = 8"
   ]
  },
  {
   "cell_type": "markdown",
   "metadata": {},
   "source": [
    "# Build Fine tuned VGG16 Model From Keras"
   ]
  },
  {
   "cell_type": "code",
   "execution_count": 8,
   "metadata": {},
   "outputs": [],
   "source": [
    "vgg16_model = keras.applications.vgg16.VGG16(weights='imagenet', include_top=False, input_shape=input_shape)"
   ]
  },
  {
   "cell_type": "code",
   "execution_count": 59,
   "metadata": {},
   "outputs": [
    {
     "name": "stdout",
     "output_type": "stream",
     "text": [
      "_________________________________________________________________\n",
      "Layer (type)                 Output Shape              Param #   \n",
      "=================================================================\n",
      "input_3 (InputLayer)         (None, 50, 50, 3)         0         \n",
      "_________________________________________________________________\n",
      "block1_conv1 (Conv2D)        (None, 50, 50, 64)        1792      \n",
      "_________________________________________________________________\n",
      "block1_conv2 (Conv2D)        (None, 50, 50, 64)        36928     \n",
      "_________________________________________________________________\n",
      "block1_pool (MaxPooling2D)   (None, 25, 25, 64)        0         \n",
      "_________________________________________________________________\n",
      "block2_conv1 (Conv2D)        (None, 25, 25, 128)       73856     \n",
      "_________________________________________________________________\n",
      "block2_conv2 (Conv2D)        (None, 25, 25, 128)       147584    \n",
      "_________________________________________________________________\n",
      "block2_pool (MaxPooling2D)   (None, 12, 12, 128)       0         \n",
      "_________________________________________________________________\n",
      "block3_conv1 (Conv2D)        (None, 12, 12, 256)       295168    \n",
      "_________________________________________________________________\n",
      "block3_conv2 (Conv2D)        (None, 12, 12, 256)       590080    \n",
      "_________________________________________________________________\n",
      "block3_conv3 (Conv2D)        (None, 12, 12, 256)       590080    \n",
      "_________________________________________________________________\n",
      "block3_pool (MaxPooling2D)   (None, 6, 6, 256)         0         \n",
      "_________________________________________________________________\n",
      "block4_conv1 (Conv2D)        (None, 6, 6, 512)         1180160   \n",
      "_________________________________________________________________\n",
      "block4_conv2 (Conv2D)        (None, 6, 6, 512)         2359808   \n",
      "_________________________________________________________________\n",
      "block4_conv3 (Conv2D)        (None, 6, 6, 512)         2359808   \n",
      "_________________________________________________________________\n",
      "block4_pool (MaxPooling2D)   (None, 3, 3, 512)         0         \n",
      "_________________________________________________________________\n",
      "block5_conv1 (Conv2D)        (None, 3, 3, 512)         2359808   \n",
      "_________________________________________________________________\n",
      "block5_conv2 (Conv2D)        (None, 3, 3, 512)         2359808   \n",
      "_________________________________________________________________\n",
      "block5_conv3 (Conv2D)        (None, 3, 3, 512)         2359808   \n",
      "_________________________________________________________________\n",
      "block5_pool (MaxPooling2D)   (None, 1, 1, 512)         0         \n",
      "=================================================================\n",
      "Total params: 14,714,688\n",
      "Trainable params: 14,714,688\n",
      "Non-trainable params: 0\n",
      "_________________________________________________________________\n"
     ]
    }
   ],
   "source": [
    "vgg16_model.summary()"
   ]
  },
  {
   "cell_type": "code",
   "execution_count": 60,
   "metadata": {},
   "outputs": [],
   "source": [
    "# Make our fine-tuned model sequential for easier processing\n",
    "fine_tuned = Sequential()\n",
    "#Add vgg layers to our model\n",
    "for layers in vgg16_model.layers:\n",
    "    fine_tuned.add(layers)"
   ]
  },
  {
   "cell_type": "code",
   "execution_count": 61,
   "metadata": {},
   "outputs": [],
   "source": [
    "#Make the previous VGG model frozen with its current weights\n",
    "for layers in fine_tuned.layers:\n",
    "    layers.trainable = False"
   ]
  },
  {
   "cell_type": "code",
   "execution_count": 62,
   "metadata": {},
   "outputs": [],
   "source": [
    "#Now add our fully connected layer:\n",
    "fine_tuned.add(Flatten())\n",
    "fine_tuned.add(Dense(64, activation='relu'))\n",
    "fine_tuned.add(Dense(64, activation='relu'))\n",
    "fine_tuned.add(Dropout(0.5))\n",
    "fine_tuned.add(Dense(num_classes, activation='softmax'))"
   ]
  },
  {
   "cell_type": "code",
   "execution_count": 63,
   "metadata": {},
   "outputs": [
    {
     "name": "stdout",
     "output_type": "stream",
     "text": [
      "_________________________________________________________________\n",
      "Layer (type)                 Output Shape              Param #   \n",
      "=================================================================\n",
      "input_3 (InputLayer)         (None, 50, 50, 3)         0         \n",
      "_________________________________________________________________\n",
      "block1_conv1 (Conv2D)        (None, 50, 50, 64)        1792      \n",
      "_________________________________________________________________\n",
      "block1_conv2 (Conv2D)        (None, 50, 50, 64)        36928     \n",
      "_________________________________________________________________\n",
      "block1_pool (MaxPooling2D)   (None, 25, 25, 64)        0         \n",
      "_________________________________________________________________\n",
      "block2_conv1 (Conv2D)        (None, 25, 25, 128)       73856     \n",
      "_________________________________________________________________\n",
      "block2_conv2 (Conv2D)        (None, 25, 25, 128)       147584    \n",
      "_________________________________________________________________\n",
      "block2_pool (MaxPooling2D)   (None, 12, 12, 128)       0         \n",
      "_________________________________________________________________\n",
      "block3_conv1 (Conv2D)        (None, 12, 12, 256)       295168    \n",
      "_________________________________________________________________\n",
      "block3_conv2 (Conv2D)        (None, 12, 12, 256)       590080    \n",
      "_________________________________________________________________\n",
      "block3_conv3 (Conv2D)        (None, 12, 12, 256)       590080    \n",
      "_________________________________________________________________\n",
      "block3_pool (MaxPooling2D)   (None, 6, 6, 256)         0         \n",
      "_________________________________________________________________\n",
      "block4_conv1 (Conv2D)        (None, 6, 6, 512)         1180160   \n",
      "_________________________________________________________________\n",
      "block4_conv2 (Conv2D)        (None, 6, 6, 512)         2359808   \n",
      "_________________________________________________________________\n",
      "block4_conv3 (Conv2D)        (None, 6, 6, 512)         2359808   \n",
      "_________________________________________________________________\n",
      "block4_pool (MaxPooling2D)   (None, 3, 3, 512)         0         \n",
      "_________________________________________________________________\n",
      "block5_conv1 (Conv2D)        (None, 3, 3, 512)         2359808   \n",
      "_________________________________________________________________\n",
      "block5_conv2 (Conv2D)        (None, 3, 3, 512)         2359808   \n",
      "_________________________________________________________________\n",
      "block5_conv3 (Conv2D)        (None, 3, 3, 512)         2359808   \n",
      "_________________________________________________________________\n",
      "block5_pool (MaxPooling2D)   (None, 1, 1, 512)         0         \n",
      "_________________________________________________________________\n",
      "flatten_3 (Flatten)          (None, 512)               0         \n",
      "_________________________________________________________________\n",
      "dense_7 (Dense)              (None, 64)                32832     \n",
      "_________________________________________________________________\n",
      "dense_8 (Dense)              (None, 64)                4160      \n",
      "_________________________________________________________________\n",
      "dropout_3 (Dropout)          (None, 64)                0         \n",
      "_________________________________________________________________\n",
      "dense_9 (Dense)              (None, 2)                 130       \n",
      "=================================================================\n",
      "Total params: 14,751,810\n",
      "Trainable params: 37,122\n",
      "Non-trainable params: 14,714,688\n",
      "_________________________________________________________________\n"
     ]
    }
   ],
   "source": [
    "fine_tuned.summary()"
   ]
  },
  {
   "cell_type": "markdown",
   "metadata": {},
   "source": [
    "# Train Fine-Tuned Model "
   ]
  },
  {
   "cell_type": "code",
   "execution_count": 66,
   "metadata": {},
   "outputs": [],
   "source": [
    "#use Adam optimizer based on stochastic optimization (Adam):\n",
    "fine_tuned.compile(loss=keras.losses.categorical_crossentropy,\n",
    "                  optimizer=keras.optimizers.Adam(lr=0.0001),\n",
    "                  metrics=['accuracy'])"
   ]
  },
  {
   "cell_type": "code",
   "execution_count": 67,
   "metadata": {},
   "outputs": [
    {
     "name": "stdout",
     "output_type": "stream",
     "text": [
      "Train on 80000 samples, validate on 20000 samples\n",
      "Epoch 1/50\n",
      "80000/80000 [==============================] - 1343s 17ms/step - loss: 0.4179 - acc: 0.8228 - val_loss: 0.3883 - val_acc: 0.8353\n",
      "Epoch 2/50\n",
      "80000/80000 [==============================] - 1347s 17ms/step - loss: 0.4039 - acc: 0.8294 - val_loss: 0.3792 - val_acc: 0.8357\n",
      "Epoch 3/50\n",
      "80000/80000 [==============================] - 1373s 17ms/step - loss: 0.3954 - acc: 0.8330 - val_loss: 0.3720 - val_acc: 0.8417\n",
      "Epoch 4/50\n",
      "80000/80000 [==============================] - 1359s 17ms/step - loss: 0.3885 - acc: 0.8360 - val_loss: 0.3679 - val_acc: 0.8429\n",
      "Epoch 5/50\n",
      "80000/80000 [==============================] - 1370s 17ms/step - loss: 0.3829 - acc: 0.8375 - val_loss: 0.3629 - val_acc: 0.8435\n",
      "Epoch 6/50\n",
      "80000/80000 [==============================] - 1369s 17ms/step - loss: 0.3791 - acc: 0.8395 - val_loss: 0.3590 - val_acc: 0.8458\n",
      "Epoch 7/50\n",
      "80000/80000 [==============================] - 1928s 24ms/step - loss: 0.3751 - acc: 0.8411 - val_loss: 0.3571 - val_acc: 0.8460\n",
      "Epoch 8/50\n",
      "80000/80000 [==============================] - 1389s 17ms/step - loss: 0.3708 - acc: 0.8432 - val_loss: 0.3550 - val_acc: 0.8481\n",
      "Epoch 9/50\n",
      "80000/80000 [==============================] - 1377s 17ms/step - loss: 0.3676 - acc: 0.8442 - val_loss: 0.3548 - val_acc: 0.8475\n",
      "Epoch 10/50\n",
      "80000/80000 [==============================] - 1370s 17ms/step - loss: 0.3647 - acc: 0.8466 - val_loss: 0.3505 - val_acc: 0.8498\n",
      "Epoch 11/50\n",
      "80000/80000 [==============================] - 1365s 17ms/step - loss: 0.3627 - acc: 0.8476 - val_loss: 0.3503 - val_acc: 0.8498\n",
      "Epoch 12/50\n",
      "80000/80000 [==============================] - 1367s 17ms/step - loss: 0.3601 - acc: 0.8485 - val_loss: 0.3490 - val_acc: 0.8488\n",
      "Epoch 13/50\n",
      "80000/80000 [==============================] - 1368s 17ms/step - loss: 0.3577 - acc: 0.8494 - val_loss: 0.3490 - val_acc: 0.8500\n",
      "Epoch 14/50\n",
      "80000/80000 [==============================] - 79236s 990ms/step - loss: 0.3567 - acc: 0.8501 - val_loss: 0.3480 - val_acc: 0.8526\n",
      "Epoch 15/50\n",
      "80000/80000 [==============================] - 1418s 18ms/step - loss: 0.3549 - acc: 0.8502 - val_loss: 0.3460 - val_acc: 0.8519\n",
      "Epoch 16/50\n",
      "80000/80000 [==============================] - 2093s 26ms/step - loss: 0.3525 - acc: 0.8521 - val_loss: 0.3446 - val_acc: 0.8532\n",
      "Epoch 17/50\n",
      "80000/80000 [==============================] - 1412s 18ms/step - loss: 0.3509 - acc: 0.8515 - val_loss: 0.3440 - val_acc: 0.8534\n",
      "Epoch 18/50\n",
      "80000/80000 [==============================] - 1387s 17ms/step - loss: 0.3489 - acc: 0.8534 - val_loss: 0.3435 - val_acc: 0.8534\n",
      "Epoch 19/50\n",
      "80000/80000 [==============================] - 1382s 17ms/step - loss: 0.3489 - acc: 0.8536 - val_loss: 0.3425 - val_acc: 0.8545\n",
      "Epoch 20/50\n",
      "80000/80000 [==============================] - 1382s 17ms/step - loss: 0.3475 - acc: 0.8541 - val_loss: 0.3441 - val_acc: 0.8539\n",
      "Epoch 21/50\n",
      "80000/80000 [==============================] - 1371s 17ms/step - loss: 0.3459 - acc: 0.8548 - val_loss: 0.3429 - val_acc: 0.8532\n",
      "Epoch 22/50\n",
      "80000/80000 [==============================] - 1370s 17ms/step - loss: 0.3444 - acc: 0.8558 - val_loss: 0.3432 - val_acc: 0.8532\n",
      "Epoch 23/50\n",
      "80000/80000 [==============================] - 1378s 17ms/step - loss: 0.3423 - acc: 0.8567 - val_loss: 0.3418 - val_acc: 0.8552\n",
      "Epoch 24/50\n",
      "80000/80000 [==============================] - 1398s 17ms/step - loss: 0.3414 - acc: 0.8565 - val_loss: 0.3409 - val_acc: 0.8542\n",
      "Epoch 25/50\n",
      "80000/80000 [==============================] - 1405s 18ms/step - loss: 0.3401 - acc: 0.8575 - val_loss: 0.3416 - val_acc: 0.8545\n",
      "Epoch 26/50\n",
      "80000/80000 [==============================] - 5883s 74ms/step - loss: 0.3387 - acc: 0.8577 - val_loss: 0.3415 - val_acc: 0.8549\n",
      "Epoch 27/50\n",
      "80000/80000 [==============================] - 1390s 17ms/step - loss: 0.3382 - acc: 0.8582 - val_loss: 0.3423 - val_acc: 0.8556\n",
      "Epoch 28/50\n",
      "80000/80000 [==============================] - 1383s 17ms/step - loss: 0.3374 - acc: 0.8585 - val_loss: 0.3428 - val_acc: 0.8553\n",
      "Epoch 29/50\n",
      "80000/80000 [==============================] - 1420s 18ms/step - loss: 0.3355 - acc: 0.8588 - val_loss: 0.3401 - val_acc: 0.8558\n",
      "Epoch 30/50\n",
      "80000/80000 [==============================] - 1397s 17ms/step - loss: 0.3338 - acc: 0.8596 - val_loss: 0.3412 - val_acc: 0.8554\n",
      "Epoch 31/50\n",
      "80000/80000 [==============================] - 1410s 18ms/step - loss: 0.3336 - acc: 0.8604 - val_loss: 0.3407 - val_acc: 0.8562\n",
      "Epoch 32/50\n",
      "80000/80000 [==============================] - 1407s 18ms/step - loss: 0.3323 - acc: 0.8606 - val_loss: 0.3415 - val_acc: 0.8543\n",
      "Epoch 33/50\n",
      "80000/80000 [==============================] - 1439s 18ms/step - loss: 0.3309 - acc: 0.8617 - val_loss: 0.3410 - val_acc: 0.8561\n",
      "Epoch 34/50\n",
      "80000/80000 [==============================] - 1424s 18ms/step - loss: 0.3300 - acc: 0.8622 - val_loss: 0.3415 - val_acc: 0.8555\n",
      "Epoch 35/50\n",
      "80000/80000 [==============================] - 1343s 17ms/step - loss: 0.3292 - acc: 0.8620 - val_loss: 0.3421 - val_acc: 0.8565\n",
      "Epoch 36/50\n",
      "80000/80000 [==============================] - 1345s 17ms/step - loss: 0.3272 - acc: 0.8631 - val_loss: 0.3425 - val_acc: 0.8568\n",
      "Epoch 37/50\n",
      "80000/80000 [==============================] - 1343s 17ms/step - loss: 0.3269 - acc: 0.8634 - val_loss: 0.3412 - val_acc: 0.8563\n",
      "Epoch 38/50\n",
      "80000/80000 [==============================] - 1337s 17ms/step - loss: 0.3253 - acc: 0.8640 - val_loss: 0.3419 - val_acc: 0.8566\n",
      "Epoch 39/50\n",
      "80000/80000 [==============================] - 1339s 17ms/step - loss: 0.3243 - acc: 0.8636 - val_loss: 0.3436 - val_acc: 0.8552\n",
      "Epoch 40/50\n",
      "80000/80000 [==============================] - 1339s 17ms/step - loss: 0.3242 - acc: 0.8643 - val_loss: 0.3469 - val_acc: 0.8547\n",
      "Epoch 41/50\n",
      "80000/80000 [==============================] - 1338s 17ms/step - loss: 0.3222 - acc: 0.8651 - val_loss: 0.3439 - val_acc: 0.8545\n",
      "Epoch 42/50\n",
      "80000/80000 [==============================] - 1383s 17ms/step - loss: 0.3220 - acc: 0.8645 - val_loss: 0.3439 - val_acc: 0.8559\n",
      "Epoch 43/50\n",
      "80000/80000 [==============================] - 1375s 17ms/step - loss: 0.3209 - acc: 0.8655 - val_loss: 0.3453 - val_acc: 0.8558\n",
      "Epoch 44/50\n",
      "80000/80000 [==============================] - 1349s 17ms/step - loss: 0.3200 - acc: 0.8663 - val_loss: 0.3425 - val_acc: 0.8560\n",
      "Epoch 45/50\n",
      "80000/80000 [==============================] - 27283s 341ms/step - loss: 0.3186 - acc: 0.8665 - val_loss: 0.3455 - val_acc: 0.8555\n",
      "Epoch 46/50\n",
      "80000/80000 [==============================] - 1420s 18ms/step - loss: 0.3173 - acc: 0.8667 - val_loss: 0.3486 - val_acc: 0.8561\n",
      "Epoch 47/50\n",
      "80000/80000 [==============================] - 1388s 17ms/step - loss: 0.3166 - acc: 0.8662 - val_loss: 0.3447 - val_acc: 0.8572\n",
      "Epoch 48/50\n",
      "80000/80000 [==============================] - 1430s 18ms/step - loss: 0.3166 - acc: 0.8668 - val_loss: 0.3456 - val_acc: 0.8553\n",
      "Epoch 49/50\n",
      "80000/80000 [==============================] - 1415s 18ms/step - loss: 0.3137 - acc: 0.8681 - val_loss: 0.3454 - val_acc: 0.8561\n",
      "Epoch 50/50\n",
      "80000/80000 [==============================] - 1403s 18ms/step - loss: 0.3136 - acc: 0.8682 - val_loss: 0.3503 - val_acc: 0.8550\n"
     ]
    },
    {
     "data": {
      "text/plain": [
       "<keras.callbacks.History at 0x1a2e1ea630>"
      ]
     },
     "execution_count": 67,
     "metadata": {},
     "output_type": "execute_result"
    }
   ],
   "source": [
    "fine_tuned.fit(xtrain_npArray, ytrain_npArray,\n",
    "          batch_size=batch_size,\n",
    "          epochs=epochs,\n",
    "          verbose=1,\n",
    "          validation_data=(xtest_npArray, ytest_npArray))"
   ]
  },
  {
   "cell_type": "code",
   "execution_count": 68,
   "metadata": {},
   "outputs": [
    {
     "name": "stdout",
     "output_type": "stream",
     "text": [
      "Test loss: 0.35027360521554946\n",
      "Test accuracy: 0.85505\n"
     ]
    }
   ],
   "source": [
    "score = fine_tuned.evaluate(xtest_npArray, ytest_npArray, verbose=0)\n",
    "print('Test loss:', score[0])\n",
    "print('Test accuracy:', score[1])"
   ]
  },
  {
   "cell_type": "markdown",
   "metadata": {},
   "source": [
    "# Predict using our Fine-tuned Model:\n"
   ]
  },
  {
   "cell_type": "code",
   "execution_count": 80,
   "metadata": {},
   "outputs": [],
   "source": [
    "def plot_confusion_matrix(cm, classes,\n",
    "                          normalize=False,\n",
    "                          title='Confusion matrix',\n",
    "                          cmap=plt.cm.Blues):\n",
    "    \"\"\"\n",
    "    This function prints and plots the confusion matrix.\n",
    "    Normalization can be applied by setting `normalize=True`.\n",
    "    \"\"\"\n",
    "    plt.figure(figsize = (5,5))\n",
    "    plt.imshow(cm, interpolation='nearest', cmap=cmap)\n",
    "    plt.title(title)\n",
    "    plt.colorbar()\n",
    "    tick_marks = np.arange(len(classes))\n",
    "    plt.xticks(tick_marks, classes, rotation=90)\n",
    "    plt.yticks(tick_marks, classes)\n",
    "    if normalize:\n",
    "        cm = cm.astype('float') / cm.sum(axis=1)[:, np.newaxis]\n",
    "\n",
    "    thresh = cm.max() / 2.\n",
    "    for i, j in itertools.product(range(cm.shape[0]), range(cm.shape[1])):\n",
    "        plt.text(j, i, cm[i, j],\n",
    "                 horizontalalignment=\"center\",\n",
    "                 color=\"white\" if cm[i, j] > thresh else \"black\")\n",
    "    plt.tight_layout()\n",
    "    plt.ylabel('True label')\n",
    "    plt.xlabel('Predicted label')"
   ]
  },
  {
   "cell_type": "code",
   "execution_count": 90,
   "metadata": {},
   "outputs": [],
   "source": [
    "y_pred = fine_tuned.predict(xtest_npArray)"
   ]
  },
  {
   "cell_type": "code",
   "execution_count": 85,
   "metadata": {},
   "outputs": [
    {
     "name": "stdout",
     "output_type": "stream",
     "text": [
      "\n",
      "             precision    recall  f1-score   support\n",
      "\n",
      "     IDC(-)       0.87      0.95      0.91     15078\n",
      "     IDC(+)       0.79      0.56      0.66      4922\n",
      "\n",
      "avg / total       0.85      0.86      0.85     20000\n",
      "\n"
     ]
    }
   ],
   "source": [
    "map_characters = {0: 'IDC(-)', 1: 'IDC(+)'}\n",
    "print('\\n', classification_report(np.where(ytest_npArray > 0)[1], np.argmax(y_pred, axis=1), target_names=list(map_characters.values())), sep='')    "
   ]
  },
  {
   "cell_type": "code",
   "execution_count": 87,
   "metadata": {},
   "outputs": [],
   "source": [
    "Y_pred_classes = np.argmax(y_pred,axis=1) \n",
    "Y_true = np.argmax(ytest_npArray,axis=1) "
   ]
  },
  {
   "cell_type": "code",
   "execution_count": 92,
   "metadata": {},
   "outputs": [
    {
     "data": {
      "image/png": "[encoded data removed]",
      "text/plain": [
       "<matplotlib.figure.Figure at 0x1a2c6f3e80>"
      ]
     },
     "metadata": {},
     "output_type": "display_data"
    }
   ],
   "source": [
    "dict_characters = {0: 'IDC(-)', 1: 'IDC(+)'}\n",
    "confusion_mtx = confusion_matrix(Y_true, Y_pred_classes) \n",
    "plot_confusion_matrix(confusion_mtx, classes = list(dict_characters.values())) \n",
    "plt.show()"
   ]
  },
  {
   "cell_type": "markdown",
   "metadata": {},
   "source": [
    "# Create another model to compare smaller number of epochs and a different optimizer"
   ]
  },
  {
   "cell_type": "code",
   "execution_count": 9,
   "metadata": {},
   "outputs": [],
   "source": [
    "# Make our fine-tuned model sequential for easier processing\n",
    "fine_tuned2 = Sequential()\n",
    "#Add vgg layers to our model\n",
    "for layers in vgg16_model.layers:\n",
    "    fine_tuned2.add(layers)\n",
    "    "
   ]
  },
  {
   "cell_type": "code",
   "execution_count": 10,
   "metadata": {},
   "outputs": [],
   "source": [
    "#Make the previous VGG model frozen with its current weights\n",
    "for layers in fine_tuned2.layers:\n",
    "    layers.trainable = False"
   ]
  },
  {
   "cell_type": "code",
   "execution_count": 11,
   "metadata": {},
   "outputs": [],
   "source": [
    "#Now add our fully connected layer:\n",
    "fine_tuned2.add(Flatten())\n",
    "fine_tuned2.add(Dense(64, activation='relu'))\n",
    "fine_tuned2.add(Dense(64, activation='relu'))\n",
    "fine_tuned2.add(Dropout(0.5))\n",
    "fine_tuned2.add(Dense(num_classes, activation='softmax'))"
   ]
  },
  {
   "cell_type": "code",
   "execution_count": 13,
   "metadata": {},
   "outputs": [],
   "source": [
    "fine_tuned2.compile(loss=keras.losses.categorical_crossentropy,\n",
    "                  optimizer=keras.optimizers.Adagrad(lr=.001),\n",
    "                  metrics=['accuracy'])"
   ]
  },
  {
   "cell_type": "code",
   "execution_count": 14,
   "metadata": {},
   "outputs": [
    {
     "name": "stdout",
     "output_type": "stream",
     "text": [
      "Train on 80000 samples, validate on 20000 samples\n",
      "Epoch 1/8\n",
      "80000/80000 [==============================] - 1624s 20ms/step - loss: 0.4879 - acc: 0.7766 - val_loss: 0.4213 - val_acc: 0.8198\n",
      "Epoch 2/8\n",
      "80000/80000 [==============================] - 1370s 17ms/step - loss: 0.4310 - acc: 0.8138 - val_loss: 0.4075 - val_acc: 0.8266\n",
      "Epoch 3/8\n",
      "80000/80000 [==============================] - 1365s 17ms/step - loss: 0.4204 - acc: 0.8191 - val_loss: 0.4029 - val_acc: 0.8287\n",
      "Epoch 4/8\n",
      "80000/80000 [==============================] - 1342s 17ms/step - loss: 0.4145 - acc: 0.8226 - val_loss: 0.3990 - val_acc: 0.8290\n",
      "Epoch 5/8\n",
      "80000/80000 [==============================] - 1370s 17ms/step - loss: 0.4112 - acc: 0.8244 - val_loss: 0.3966 - val_acc: 0.8300\n",
      "Epoch 6/8\n",
      "80000/80000 [==============================] - 1369s 17ms/step - loss: 0.4082 - acc: 0.8258 - val_loss: 0.3948 - val_acc: 0.8304\n",
      "Epoch 7/8\n",
      "80000/80000 [==============================] - 1357s 17ms/step - loss: 0.4063 - acc: 0.8273 - val_loss: 0.3928 - val_acc: 0.8313\n",
      "Epoch 8/8\n",
      "80000/80000 [==============================] - 1374s 17ms/step - loss: 0.4040 - acc: 0.8290 - val_loss: 0.3913 - val_acc: 0.8327\n"
     ]
    }
   ],
   "source": [
    "history = fine_tuned2.fit(xtrain_npArray, ytrain_npArray,\n",
    "          batch_size=batch_size,\n",
    "          epochs=epochs,\n",
    "          verbose=1,\n",
    "          validation_data=(xtest_npArray, ytest_npArray))"
   ]
  },
  {
   "cell_type": "code",
   "execution_count": 15,
   "metadata": {},
   "outputs": [],
   "source": [
    "def plot_loss_accuracy(history):\n",
    "    fig = plt.figure(figsize=(12, 6))\n",
    "    ax = fig.add_subplot(1, 2, 1)\n",
    "    ax.plot(history.history[\"loss\"],'r-x', label=\"Train Loss\")\n",
    "    ax.plot(history.history[\"val_loss\"],'b-x', label=\"Validation Loss\")\n",
    "    ax.legend()\n",
    "    ax.set_title('cross_entropy loss')\n",
    "    ax.grid(True)\n",
    "\n",
    "\n",
    "    ax = fig.add_subplot(1, 2, 2)\n",
    "    ax.plot(history.history[\"acc\"],'r-x', label=\"Train Accuracy\")\n",
    "    ax.plot(history.history[\"val_acc\"],'b-x', label=\"Validation Accuracy\")\n",
    "    ax.legend()\n",
    "    ax.set_title('accuracy')\n",
    "    ax.grid(True)"
   ]
  },
  {
   "cell_type": "code",
   "execution_count": 17,
   "metadata": {},
   "outputs": [
    {
     "data": {
      "image/png": "[encoded data removed]",
      "text/plain": [
       "<matplotlib.figure.Figure at 0x104717ef0>"
      ]
     },
     "metadata": {},
     "output_type": "display_data"
    }
   ],
   "source": [
    "plot_loss_accuracy(history)"
   ]
  },
  {
   "cell_type": "code",
   "execution_count": 16,
   "metadata": {},
   "outputs": [
    {
     "name": "stdout",
     "output_type": "stream",
     "text": [
      "Test loss: 0.3913321305513382\n",
      "Test accuracy: 0.83265\n"
     ]
    }
   ],
   "source": [
    "score = fine_tuned2.evaluate(xtest_npArray, ytest_npArray, verbose=0)\n",
    "print('Test loss:', score[0])\n",
    "print('Test accuracy:', score[1])"
   ]
  },
  {
   "cell_type": "code",
   "execution_count": null,
   "metadata": {},
   "outputs": [],
   "source": []
  }
 ],
 "metadata": {
  "kernelspec": {
   "display_name": "Python 3",
   "language": "python",
   "name": "python3"
  },
  "language_info": {
   "codemirror_mode": {
    "name": "ipython",
    "version": 3
   },
   "file_extension": ".py",
   "mimetype": "text/x-python",
   "name": "python",
   "nbconvert_exporter": "python",
   "pygments_lexer": "ipython3",
   "version": "3.6.4"
  }
 },
 "nbformat": 4,
 "nbformat_minor": 2
}
