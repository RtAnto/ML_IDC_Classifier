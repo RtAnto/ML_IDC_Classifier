{
 "cells": [
  {
   "cell_type": "code",
   "execution_count": 53,
   "metadata": {},
   "outputs": [],
   "source": [
    "from glob import glob\n",
    "from PIL import Image\n",
    "import numpy as np\n",
    "from os.path import basename\n",
    "import fnmatch\n",
    "import cv2\n",
    "import pandas as pd\n",
    "from sklearn.model_selection import train_test_split\n",
    "import keras\n",
    "from keras.models import Sequential\n",
    "from keras.layers import Dense, Dropout, Flatten\n",
    "from keras import optimizers\n",
    "from keras.preprocessing.image import ImageDataGenerator"
   ]
  },
  {
   "cell_type": "markdown",
   "metadata": {},
   "source": [
    "# Preparation of Images for our DataSet"
   ]
  },
  {
   "cell_type": "code",
   "execution_count": 54,
   "metadata": {},
   "outputs": [],
   "source": [
    "#Path of the files:\n",
    "path = \"/Users/MariaNuila/Desktop/CECS406/IDC_regular_ps50_idx5/*/*/*.png\"\n",
    "width, height = 50, 50\n",
    "pictures = glob(path)\n",
    "#Separate images based on classification\n",
    "nonIDC =  fnmatch.filter(pictures, '*class0.png')\n",
    "IDC = fnmatch.filter(pictures, '*class1.png')\n"
   ]
  },
  {
   "cell_type": "code",
   "execution_count": 55,
   "metadata": {},
   "outputs": [],
   "source": [
    "#Create training and testing data set from pictures\n",
    "x = []\n",
    "y = [] #labels\n",
    "for pic in pictures[0:100000]:\n",
    "    image = cv2.imread(pic)\n",
    "    x.append(cv2.resize(image, (width, height), interpolation=cv2.INTER_CUBIC))\n",
    "    if pic in nonIDC:\n",
    "        y.append(0)\n",
    "    if pic in IDC:\n",
    "        y.append(1)\n",
    "#Place in dataframe:\n",
    "df = pd.DataFrame()\n",
    "df[\"images\"] = x\n",
    "df[\"labels\"] = y\n",
    "\n",
    "#vectorize and normalize data\n",
    "x=np.array(x)\n",
    "x=x/255.0\n",
    "X_train, X_test, Y_train, Y_test = train_test_split(x, y, test_size=0.2)\n",
    "\n",
    "#Convert our training and testing data into np arrays:\n",
    "xtrain_npArray = np.array(X_train)\n",
    "xtest_npArray = np.array(X_test)\n",
    "ytrain_npArray = np.array(Y_train)\n",
    "ytest_npArray = np.array(Y_test)"
   ]
  },
  {
   "cell_type": "code",
   "execution_count": 56,
   "metadata": {},
   "outputs": [],
   "source": [
    "input_shape = (50,50,3)\n",
    "# convert class vectors to binary class matrices\n",
    "ytrain_npArray = keras.utils.to_categorical(ytrain_npArray, num_classes)\n",
    "ytest_npArray = keras.utils.to_categorical(ytest_npArray, num_classes)"
   ]
  },
  {
   "cell_type": "code",
   "execution_count": 57,
   "metadata": {},
   "outputs": [],
   "source": [
    "#Specify Data training information: \n",
    "batch_size = 128\n",
    "num_classes = 2\n",
    "epochs = 50"
   ]
  },
  {
   "cell_type": "markdown",
   "metadata": {},
   "source": [
    "# Build Fine tuned VGG16 Model From Keras"
   ]
  },
  {
   "cell_type": "code",
   "execution_count": 58,
   "metadata": {},
   "outputs": [],
   "source": [
    "vgg16_model = keras.applications.vgg16.VGG16(weights='imagenet', include_top=False, input_shape=input_shape)"
   ]
  },
  {
   "cell_type": "code",
   "execution_count": 59,
   "metadata": {},
   "outputs": [
    {
     "name": "stdout",
     "output_type": "stream",
     "text": [
      "_________________________________________________________________\n",
      "Layer (type)                 Output Shape              Param #   \n",
      "=================================================================\n",
      "input_3 (InputLayer)         (None, 50, 50, 3)         0         \n",
      "_________________________________________________________________\n",
      "block1_conv1 (Conv2D)        (None, 50, 50, 64)        1792      \n",
      "_________________________________________________________________\n",
      "block1_conv2 (Conv2D)        (None, 50, 50, 64)        36928     \n",
      "_________________________________________________________________\n",
      "block1_pool (MaxPooling2D)   (None, 25, 25, 64)        0         \n",
      "_________________________________________________________________\n",
      "block2_conv1 (Conv2D)        (None, 25, 25, 128)       73856     \n",
      "_________________________________________________________________\n",
      "block2_conv2 (Conv2D)        (None, 25, 25, 128)       147584    \n",
      "_________________________________________________________________\n",
      "block2_pool (MaxPooling2D)   (None, 12, 12, 128)       0         \n",
      "_________________________________________________________________\n",
      "block3_conv1 (Conv2D)        (None, 12, 12, 256)       295168    \n",
      "_________________________________________________________________\n",
      "block3_conv2 (Conv2D)        (None, 12, 12, 256)       590080    \n",
      "_________________________________________________________________\n",
      "block3_conv3 (Conv2D)        (None, 12, 12, 256)       590080    \n",
      "_________________________________________________________________\n",
      "block3_pool (MaxPooling2D)   (None, 6, 6, 256)         0         \n",
      "_________________________________________________________________\n",
      "block4_conv1 (Conv2D)        (None, 6, 6, 512)         1180160   \n",
      "_________________________________________________________________\n",
      "block4_conv2 (Conv2D)        (None, 6, 6, 512)         2359808   \n",
      "_________________________________________________________________\n",
      "block4_conv3 (Conv2D)        (None, 6, 6, 512)         2359808   \n",
      "_________________________________________________________________\n",
      "block4_pool (MaxPooling2D)   (None, 3, 3, 512)         0         \n",
      "_________________________________________________________________\n",
      "block5_conv1 (Conv2D)        (None, 3, 3, 512)         2359808   \n",
      "_________________________________________________________________\n",
      "block5_conv2 (Conv2D)        (None, 3, 3, 512)         2359808   \n",
      "_________________________________________________________________\n",
      "block5_conv3 (Conv2D)        (None, 3, 3, 512)         2359808   \n",
      "_________________________________________________________________\n",
      "block5_pool (MaxPooling2D)   (None, 1, 1, 512)         0         \n",
      "=================================================================\n",
      "Total params: 14,714,688\n",
      "Trainable params: 14,714,688\n",
      "Non-trainable params: 0\n",
      "_________________________________________________________________\n"
     ]
    }
   ],
   "source": [
    "vgg16_model.summary()"
   ]
  },
  {
   "cell_type": "code",
   "execution_count": 60,
   "metadata": {},
   "outputs": [],
   "source": [
    "# Make our fine-tuned model sequential for easier processing\n",
    "fine_tuned = Sequential()\n",
    "#Add vgg layers to our model\n",
    "for layers in vgg16_model.layers:\n",
    "    fine_tuned.add(layers)"
   ]
  },
  {
   "cell_type": "code",
   "execution_count": 61,
   "metadata": {},
   "outputs": [],
   "source": [
    "#Make the previous VGG model frozen with its current weights\n",
    "for layers in fine_tuned.layers:\n",
    "    layers.trainable = False"
   ]
  },
  {
   "cell_type": "code",
   "execution_count": 62,
   "metadata": {},
   "outputs": [],
   "source": [
    "#Now add our fully connected layer:\n",
    "fine_tuned.add(Flatten())\n",
    "fine_tuned.add(Dense(64, activation='relu'))\n",
    "fine_tuned.add(Dense(64, activation='relu'))\n",
    "fine_tuned.add(Dropout(0.5))\n",
    "fine_tuned.add(Dense(num_classes, activation='softmax'))"
   ]
  },
  {
   "cell_type": "code",
   "execution_count": 63,
   "metadata": {},
   "outputs": [
    {
     "name": "stdout",
     "output_type": "stream",
     "text": [
      "_________________________________________________________________\n",
      "Layer (type)                 Output Shape              Param #   \n",
      "=================================================================\n",
      "input_3 (InputLayer)         (None, 50, 50, 3)         0         \n",
      "_________________________________________________________________\n",
      "block1_conv1 (Conv2D)        (None, 50, 50, 64)        1792      \n",
      "_________________________________________________________________\n",
      "block1_conv2 (Conv2D)        (None, 50, 50, 64)        36928     \n",
      "_________________________________________________________________\n",
      "block1_pool (MaxPooling2D)   (None, 25, 25, 64)        0         \n",
      "_________________________________________________________________\n",
      "block2_conv1 (Conv2D)        (None, 25, 25, 128)       73856     \n",
      "_________________________________________________________________\n",
      "block2_conv2 (Conv2D)        (None, 25, 25, 128)       147584    \n",
      "_________________________________________________________________\n",
      "block2_pool (MaxPooling2D)   (None, 12, 12, 128)       0         \n",
      "_________________________________________________________________\n",
      "block3_conv1 (Conv2D)        (None, 12, 12, 256)       295168    \n",
      "_________________________________________________________________\n",
      "block3_conv2 (Conv2D)        (None, 12, 12, 256)       590080    \n",
      "_________________________________________________________________\n",
      "block3_conv3 (Conv2D)        (None, 12, 12, 256)       590080    \n",
      "_________________________________________________________________\n",
      "block3_pool (MaxPooling2D)   (None, 6, 6, 256)         0         \n",
      "_________________________________________________________________\n",
      "block4_conv1 (Conv2D)        (None, 6, 6, 512)         1180160   \n",
      "_________________________________________________________________\n",
      "block4_conv2 (Conv2D)        (None, 6, 6, 512)         2359808   \n",
      "_________________________________________________________________\n",
      "block4_conv3 (Conv2D)        (None, 6, 6, 512)         2359808   \n",
      "_________________________________________________________________\n",
      "block4_pool (MaxPooling2D)   (None, 3, 3, 512)         0         \n",
      "_________________________________________________________________\n",
      "block5_conv1 (Conv2D)        (None, 3, 3, 512)         2359808   \n",
      "_________________________________________________________________\n",
      "block5_conv2 (Conv2D)        (None, 3, 3, 512)         2359808   \n",
      "_________________________________________________________________\n",
      "block5_conv3 (Conv2D)        (None, 3, 3, 512)         2359808   \n",
      "_________________________________________________________________\n",
      "block5_pool (MaxPooling2D)   (None, 1, 1, 512)         0         \n",
      "_________________________________________________________________\n",
      "flatten_3 (Flatten)          (None, 512)               0         \n",
      "_________________________________________________________________\n",
      "dense_7 (Dense)              (None, 64)                32832     \n",
      "_________________________________________________________________\n",
      "dense_8 (Dense)              (None, 64)                4160      \n",
      "_________________________________________________________________\n",
      "dropout_3 (Dropout)          (None, 64)                0         \n",
      "_________________________________________________________________\n",
      "dense_9 (Dense)              (None, 2)                 130       \n",
      "=================================================================\n",
      "Total params: 14,751,810\n",
      "Trainable params: 37,122\n",
      "Non-trainable params: 14,714,688\n",
      "_________________________________________________________________\n"
     ]
    }
   ],
   "source": [
    "fine_tuned.summary()"
   ]
  },
  {
   "cell_type": "markdown",
   "metadata": {},
   "source": [
    "# Train Fine-Tuned Model "
   ]
  },
  {
   "cell_type": "code",
   "execution_count": 66,
   "metadata": {},
   "outputs": [],
   "source": [
    "#use Adam optimizer based on stochastic optimization (Adam):\n",
    "fine_tuned.compile(loss=keras.losses.categorical_crossentropy,\n",
    "                  optimizer=keras.optimizers.Adam(lr=0.0001),\n",
    "                  metrics=['accuracy'])"
   ]
  },
  {
   "cell_type": "code",
   "execution_count": null,
   "metadata": {},
   "outputs": [
    {
     "name": "stdout",
     "output_type": "stream",
     "text": [
      "Train on 80000 samples, validate on 20000 samples\n",
      "Epoch 1/50\n",
      "80000/80000 [==============================] - 1343s 17ms/step - loss: 0.4179 - acc: 0.8228 - val_loss: 0.3883 - val_acc: 0.8353\n",
      "Epoch 2/50\n",
      "80000/80000 [==============================] - 1347s 17ms/step - loss: 0.4039 - acc: 0.8294 - val_loss: 0.3792 - val_acc: 0.8357\n",
      "Epoch 3/50\n",
      "80000/80000 [==============================] - 1373s 17ms/step - loss: 0.3954 - acc: 0.8330 - val_loss: 0.3720 - val_acc: 0.8417\n",
      "Epoch 4/50\n",
      "80000/80000 [==============================] - 1359s 17ms/step - loss: 0.3885 - acc: 0.8360 - val_loss: 0.3679 - val_acc: 0.8429\n",
      "Epoch 5/50\n",
      "80000/80000 [==============================] - 1370s 17ms/step - loss: 0.3829 - acc: 0.8375 - val_loss: 0.3629 - val_acc: 0.8435\n",
      "Epoch 6/50\n",
      "80000/80000 [==============================] - 1369s 17ms/step - loss: 0.3791 - acc: 0.8395 - val_loss: 0.3590 - val_acc: 0.8458\n",
      "Epoch 7/50\n",
      "80000/80000 [==============================] - 1928s 24ms/step - loss: 0.3751 - acc: 0.8411 - val_loss: 0.3571 - val_acc: 0.8460\n",
      "Epoch 8/50\n",
      "80000/80000 [==============================] - 1389s 17ms/step - loss: 0.3708 - acc: 0.8432 - val_loss: 0.3550 - val_acc: 0.8481\n",
      "Epoch 9/50\n",
      "80000/80000 [==============================] - 1377s 17ms/step - loss: 0.3676 - acc: 0.8442 - val_loss: 0.3548 - val_acc: 0.8475\n",
      "Epoch 10/50\n",
      "80000/80000 [==============================] - 1370s 17ms/step - loss: 0.3647 - acc: 0.8466 - val_loss: 0.3505 - val_acc: 0.8498\n",
      "Epoch 11/50\n",
      "80000/80000 [==============================] - 1365s 17ms/step - loss: 0.3627 - acc: 0.8476 - val_loss: 0.3503 - val_acc: 0.8498\n",
      "Epoch 12/50\n",
      "80000/80000 [==============================] - 1367s 17ms/step - loss: 0.3601 - acc: 0.8485 - val_loss: 0.3490 - val_acc: 0.8488\n",
      "Epoch 13/50\n",
      "80000/80000 [==============================] - 1368s 17ms/step - loss: 0.3577 - acc: 0.8494 - val_loss: 0.3490 - val_acc: 0.8500\n",
      "Epoch 14/50\n",
      "80000/80000 [==============================] - 79236s 990ms/step - loss: 0.3567 - acc: 0.8501 - val_loss: 0.3480 - val_acc: 0.8526\n",
      "Epoch 15/50\n",
      "80000/80000 [==============================] - 1418s 18ms/step - loss: 0.3549 - acc: 0.8502 - val_loss: 0.3460 - val_acc: 0.8519\n",
      "Epoch 16/50\n",
      "79872/80000 [============================>.] - ETA: 2s - loss: 0.3525 - acc: 0.8521"
     ]
    }
   ],
   "source": [
    "fine_tuned.fit(xtrain_npArray, ytrain_npArray,\n",
    "          batch_size=batch_size,\n",
    "          epochs=epochs,\n",
    "          verbose=1,\n",
    "          validation_data=(xtest_npArray, ytest_npArray))"
   ]
  },
  {
   "cell_type": "code",
   "execution_count": null,
   "metadata": {},
   "outputs": [],
   "source": [
    "score = fine_tuned.evaluate(xtest_npArray, ytest_npArray, verbose=0)\n",
    "print('Test loss:', score[0])\n",
    "print('Test accuracy:', score[1])"
   ]
  },
  {
   "cell_type": "markdown",
   "metadata": {},
   "source": [
    "# Predict using our Fine-tuned Model:"
   ]
  },
  {
   "cell_type": "code",
   "execution_count": null,
   "metadata": {},
   "outputs": [],
   "source": [
    "#test_images, test_labels = next(test_batches)\n",
    "#plots(test_images, title=test_labels) "
   ]
  },
  {
   "cell_type": "code",
   "execution_count": null,
   "metadata": {},
   "outputs": [],
   "source": [
    "#test_lables = test_lables[:,0]\n",
    "#test_lables"
   ]
  },
  {
   "cell_type": "code",
   "execution_count": null,
   "metadata": {},
   "outputs": [],
   "source": [
    "#predictions = fine_tuned.predict_generator(test_batches, steps =? , verbose = 0)"
   ]
  },
  {
   "cell_type": "code",
   "execution_count": null,
   "metadata": {},
   "outputs": [],
   "source": [
    "#cm = confusion_matrix(test_labels, np.round(predictions[:,0]))"
   ]
  },
  {
   "cell_type": "code",
   "execution_count": null,
   "metadata": {},
   "outputs": [],
   "source": [
    "#cm_plot_lables=['idc', nonidc']\n",
    "#plot_confusion_matrix(cm, cm_plot_labels, title='Confusion Matrix')"
   ]
  }
 ],
 "metadata": {
  "kernelspec": {
   "display_name": "Python 3",
   "language": "python",
   "name": "python3"
  },
  "language_info": {
   "codemirror_mode": {
    "name": "ipython",
    "version": 3
   },
   "file_extension": ".py",
   "mimetype": "text/x-python",
   "name": "python",
   "nbconvert_exporter": "python",
   "pygments_lexer": "ipython3",
   "version": "3.6.4"
  }
 },
 "nbformat": 4,
 "nbformat_minor": 2
}
